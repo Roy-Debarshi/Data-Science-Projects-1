{
 "cells": [
  {
   "cell_type": "markdown",
   "metadata": {},
   "source": [
    "Author : Debarshi Roy"
   ]
  },
  {
   "cell_type": "markdown",
   "metadata": {},
   "source": [
    "Batch: DS21AUG01"
   ]
  },
  {
   "cell_type": "markdown",
   "metadata": {},
   "source": [
    "Importing Libraries"
   ]
  },
  {
   "cell_type": "code",
   "execution_count": 1,
   "metadata": {},
   "outputs": [],
   "source": [
    "import numpy as np\n",
    "import pandas as pd\n",
    "import seaborn as sns\n",
    "import matplotlib.pyplot as plt\n",
    "%matplotlib inline"
   ]
  },
  {
   "cell_type": "markdown",
   "metadata": {},
   "source": [
    "## Tasks"
   ]
  },
  {
   "cell_type": "markdown",
   "metadata": {},
   "source": [
    "1. Data clean up – Missing value treatment"
   ]
  },
  {
   "cell_type": "markdown",
   "metadata": {},
   "source": [
    "     a. Drop records where rating is missing since rating is our target/study variable"
   ]
  },
  {
   "cell_type": "code",
   "execution_count": 2,
   "metadata": {},
   "outputs": [],
   "source": [
    "df = pd.read_csv(r'C:\\Users\\91726\\Downloads\\Python Assignment 2_BI\\playstore-analysis.csv')"
   ]
  },
  {
   "cell_type": "code",
   "execution_count": 3,
   "metadata": {},
   "outputs": [
    {
     "name": "stdout",
     "output_type": "stream",
     "text": [
      "<class 'pandas.core.frame.DataFrame'>\n",
      "RangeIndex: 10841 entries, 0 to 10840\n",
      "Data columns (total 13 columns):\n",
      " #   Column          Non-Null Count  Dtype  \n",
      "---  ------          --------------  -----  \n",
      " 0   App             10841 non-null  object \n",
      " 1   Category        10841 non-null  object \n",
      " 2   Rating          9367 non-null   float64\n",
      " 3   Reviews         10841 non-null  object \n",
      " 4   Size            10841 non-null  float64\n",
      " 5   Installs        10841 non-null  object \n",
      " 6   Type            10840 non-null  object \n",
      " 7   Price           10841 non-null  object \n",
      " 8   Content Rating  10840 non-null  object \n",
      " 9   Genres          10841 non-null  object \n",
      " 10  Last Updated    10841 non-null  object \n",
      " 11  Current Ver     10833 non-null  object \n",
      " 12  Android Ver     10838 non-null  object \n",
      "dtypes: float64(2), object(11)\n",
      "memory usage: 1.1+ MB\n"
     ]
    }
   ],
   "source": [
    "df.info()"
   ]
  },
  {
   "cell_type": "code",
   "execution_count": 4,
   "metadata": {},
   "outputs": [
    {
     "data": {
      "text/plain": [
       "App                  0\n",
       "Category             0\n",
       "Rating            1474\n",
       "Reviews              0\n",
       "Size                 0\n",
       "Installs             0\n",
       "Type                 1\n",
       "Price                0\n",
       "Content Rating       1\n",
       "Genres               0\n",
       "Last Updated         0\n",
       "Current Ver          8\n",
       "Android Ver          3\n",
       "dtype: int64"
      ]
     },
     "execution_count": 4,
     "metadata": {},
     "output_type": "execute_result"
    }
   ],
   "source": [
    "df.isnull().sum()"
   ]
  },
  {
   "cell_type": "code",
   "execution_count": 5,
   "metadata": {},
   "outputs": [],
   "source": [
    "rating = pd.isnull(df['Rating'])"
   ]
  },
  {
   "cell_type": "code",
   "execution_count": 6,
   "metadata": {},
   "outputs": [
    {
     "data": {
      "text/html": [
       "<div>\n",
       "<style scoped>\n",
       "    .dataframe tbody tr th:only-of-type {\n",
       "        vertical-align: middle;\n",
       "    }\n",
       "\n",
       "    .dataframe tbody tr th {\n",
       "        vertical-align: top;\n",
       "    }\n",
       "\n",
       "    .dataframe thead th {\n",
       "        text-align: right;\n",
       "    }\n",
       "</style>\n",
       "<table border=\"1\" class=\"dataframe\">\n",
       "  <thead>\n",
       "    <tr style=\"text-align: right;\">\n",
       "      <th></th>\n",
       "      <th>App</th>\n",
       "      <th>Category</th>\n",
       "      <th>Rating</th>\n",
       "      <th>Reviews</th>\n",
       "      <th>Size</th>\n",
       "      <th>Installs</th>\n",
       "      <th>Type</th>\n",
       "      <th>Price</th>\n",
       "      <th>Content Rating</th>\n",
       "      <th>Genres</th>\n",
       "      <th>Last Updated</th>\n",
       "      <th>Current Ver</th>\n",
       "      <th>Android Ver</th>\n",
       "    </tr>\n",
       "  </thead>\n",
       "  <tbody>\n",
       "    <tr>\n",
       "      <th>23</th>\n",
       "      <td>Mcqueen Coloring pages</td>\n",
       "      <td>ART_AND_DESIGN</td>\n",
       "      <td>NaN</td>\n",
       "      <td>61</td>\n",
       "      <td>7000.0</td>\n",
       "      <td>100,000+</td>\n",
       "      <td>Free</td>\n",
       "      <td>0</td>\n",
       "      <td>Everyone</td>\n",
       "      <td>Art &amp; Design;Action &amp; Adventure</td>\n",
       "      <td>March 7, 2018</td>\n",
       "      <td>1.0.0</td>\n",
       "      <td>4.1 and up</td>\n",
       "    </tr>\n",
       "    <tr>\n",
       "      <th>113</th>\n",
       "      <td>Wrinkles and rejuvenation</td>\n",
       "      <td>BEAUTY</td>\n",
       "      <td>NaN</td>\n",
       "      <td>182</td>\n",
       "      <td>5700.0</td>\n",
       "      <td>100,000+</td>\n",
       "      <td>Free</td>\n",
       "      <td>0</td>\n",
       "      <td>Everyone 10+</td>\n",
       "      <td>Beauty</td>\n",
       "      <td>September 20, 2017</td>\n",
       "      <td>8.0</td>\n",
       "      <td>3.0 and up</td>\n",
       "    </tr>\n",
       "    <tr>\n",
       "      <th>123</th>\n",
       "      <td>Manicure - nail design</td>\n",
       "      <td>BEAUTY</td>\n",
       "      <td>NaN</td>\n",
       "      <td>119</td>\n",
       "      <td>3700.0</td>\n",
       "      <td>50,000+</td>\n",
       "      <td>Free</td>\n",
       "      <td>0</td>\n",
       "      <td>Everyone</td>\n",
       "      <td>Beauty</td>\n",
       "      <td>July 23, 2018</td>\n",
       "      <td>1.3</td>\n",
       "      <td>4.1 and up</td>\n",
       "    </tr>\n",
       "    <tr>\n",
       "      <th>126</th>\n",
       "      <td>Skin Care and Natural Beauty</td>\n",
       "      <td>BEAUTY</td>\n",
       "      <td>NaN</td>\n",
       "      <td>654</td>\n",
       "      <td>7400.0</td>\n",
       "      <td>100,000+</td>\n",
       "      <td>Free</td>\n",
       "      <td>0</td>\n",
       "      <td>Teen</td>\n",
       "      <td>Beauty</td>\n",
       "      <td>July 17, 2018</td>\n",
       "      <td>1.15</td>\n",
       "      <td>4.1 and up</td>\n",
       "    </tr>\n",
       "    <tr>\n",
       "      <th>129</th>\n",
       "      <td>Secrets of beauty, youth and health</td>\n",
       "      <td>BEAUTY</td>\n",
       "      <td>NaN</td>\n",
       "      <td>77</td>\n",
       "      <td>2900.0</td>\n",
       "      <td>10,000+</td>\n",
       "      <td>Free</td>\n",
       "      <td>0</td>\n",
       "      <td>Mature 17+</td>\n",
       "      <td>Beauty</td>\n",
       "      <td>August 8, 2017</td>\n",
       "      <td>2.0</td>\n",
       "      <td>2.3 and up</td>\n",
       "    </tr>\n",
       "    <tr>\n",
       "      <th>...</th>\n",
       "      <td>...</td>\n",
       "      <td>...</td>\n",
       "      <td>...</td>\n",
       "      <td>...</td>\n",
       "      <td>...</td>\n",
       "      <td>...</td>\n",
       "      <td>...</td>\n",
       "      <td>...</td>\n",
       "      <td>...</td>\n",
       "      <td>...</td>\n",
       "      <td>...</td>\n",
       "      <td>...</td>\n",
       "      <td>...</td>\n",
       "    </tr>\n",
       "    <tr>\n",
       "      <th>10824</th>\n",
       "      <td>Cardio-FR</td>\n",
       "      <td>MEDICAL</td>\n",
       "      <td>NaN</td>\n",
       "      <td>67</td>\n",
       "      <td>82000.0</td>\n",
       "      <td>10,000+</td>\n",
       "      <td>Free</td>\n",
       "      <td>0</td>\n",
       "      <td>Everyone</td>\n",
       "      <td>Medical</td>\n",
       "      <td>July 31, 2018</td>\n",
       "      <td>2.2.2</td>\n",
       "      <td>4.4 and up</td>\n",
       "    </tr>\n",
       "    <tr>\n",
       "      <th>10825</th>\n",
       "      <td>Naruto &amp; Boruto FR</td>\n",
       "      <td>SOCIAL</td>\n",
       "      <td>NaN</td>\n",
       "      <td>7</td>\n",
       "      <td>7700.0</td>\n",
       "      <td>100+</td>\n",
       "      <td>Free</td>\n",
       "      <td>0</td>\n",
       "      <td>Teen</td>\n",
       "      <td>Social</td>\n",
       "      <td>February 2, 2018</td>\n",
       "      <td>1.0</td>\n",
       "      <td>4.0 and up</td>\n",
       "    </tr>\n",
       "    <tr>\n",
       "      <th>10831</th>\n",
       "      <td>payermonstationnement.fr</td>\n",
       "      <td>MAPS_AND_NAVIGATION</td>\n",
       "      <td>NaN</td>\n",
       "      <td>38</td>\n",
       "      <td>9800.0</td>\n",
       "      <td>5,000+</td>\n",
       "      <td>Free</td>\n",
       "      <td>0</td>\n",
       "      <td>Everyone</td>\n",
       "      <td>Maps &amp; Navigation</td>\n",
       "      <td>June 13, 2018</td>\n",
       "      <td>2.0.148.0</td>\n",
       "      <td>4.0 and up</td>\n",
       "    </tr>\n",
       "    <tr>\n",
       "      <th>10835</th>\n",
       "      <td>FR Forms</td>\n",
       "      <td>BUSINESS</td>\n",
       "      <td>NaN</td>\n",
       "      <td>0</td>\n",
       "      <td>9600.0</td>\n",
       "      <td>10+</td>\n",
       "      <td>Free</td>\n",
       "      <td>0</td>\n",
       "      <td>Everyone</td>\n",
       "      <td>Business</td>\n",
       "      <td>September 29, 2016</td>\n",
       "      <td>1.1.5</td>\n",
       "      <td>4.0 and up</td>\n",
       "    </tr>\n",
       "    <tr>\n",
       "      <th>10838</th>\n",
       "      <td>Parkinson Exercices FR</td>\n",
       "      <td>MEDICAL</td>\n",
       "      <td>NaN</td>\n",
       "      <td>3</td>\n",
       "      <td>9500.0</td>\n",
       "      <td>1,000+</td>\n",
       "      <td>Free</td>\n",
       "      <td>0</td>\n",
       "      <td>Everyone</td>\n",
       "      <td>Medical</td>\n",
       "      <td>January 20, 2017</td>\n",
       "      <td>1.0</td>\n",
       "      <td>2.2 and up</td>\n",
       "    </tr>\n",
       "  </tbody>\n",
       "</table>\n",
       "<p>1474 rows × 13 columns</p>\n",
       "</div>"
      ],
      "text/plain": [
       "                                       App             Category  Rating  \\\n",
       "23                  Mcqueen Coloring pages       ART_AND_DESIGN     NaN   \n",
       "113              Wrinkles and rejuvenation               BEAUTY     NaN   \n",
       "123                 Manicure - nail design               BEAUTY     NaN   \n",
       "126           Skin Care and Natural Beauty               BEAUTY     NaN   \n",
       "129    Secrets of beauty, youth and health               BEAUTY     NaN   \n",
       "...                                    ...                  ...     ...   \n",
       "10824                            Cardio-FR              MEDICAL     NaN   \n",
       "10825                   Naruto & Boruto FR               SOCIAL     NaN   \n",
       "10831             payermonstationnement.fr  MAPS_AND_NAVIGATION     NaN   \n",
       "10835                             FR Forms             BUSINESS     NaN   \n",
       "10838               Parkinson Exercices FR              MEDICAL     NaN   \n",
       "\n",
       "      Reviews     Size  Installs  Type Price Content Rating  \\\n",
       "23         61   7000.0  100,000+  Free     0       Everyone   \n",
       "113       182   5700.0  100,000+  Free     0   Everyone 10+   \n",
       "123       119   3700.0   50,000+  Free     0       Everyone   \n",
       "126       654   7400.0  100,000+  Free     0           Teen   \n",
       "129        77   2900.0   10,000+  Free     0     Mature 17+   \n",
       "...       ...      ...       ...   ...   ...            ...   \n",
       "10824      67  82000.0   10,000+  Free     0       Everyone   \n",
       "10825       7   7700.0      100+  Free     0           Teen   \n",
       "10831      38   9800.0    5,000+  Free     0       Everyone   \n",
       "10835       0   9600.0       10+  Free     0       Everyone   \n",
       "10838       3   9500.0    1,000+  Free     0       Everyone   \n",
       "\n",
       "                                Genres        Last Updated Current Ver  \\\n",
       "23     Art & Design;Action & Adventure       March 7, 2018       1.0.0   \n",
       "113                             Beauty  September 20, 2017         8.0   \n",
       "123                             Beauty       July 23, 2018         1.3   \n",
       "126                             Beauty       July 17, 2018        1.15   \n",
       "129                             Beauty      August 8, 2017         2.0   \n",
       "...                                ...                 ...         ...   \n",
       "10824                          Medical       July 31, 2018       2.2.2   \n",
       "10825                           Social    February 2, 2018         1.0   \n",
       "10831                Maps & Navigation       June 13, 2018   2.0.148.0   \n",
       "10835                         Business  September 29, 2016       1.1.5   \n",
       "10838                          Medical    January 20, 2017         1.0   \n",
       "\n",
       "      Android Ver  \n",
       "23     4.1 and up  \n",
       "113    3.0 and up  \n",
       "123    4.1 and up  \n",
       "126    4.1 and up  \n",
       "129    2.3 and up  \n",
       "...           ...  \n",
       "10824  4.4 and up  \n",
       "10825  4.0 and up  \n",
       "10831  4.0 and up  \n",
       "10835  4.0 and up  \n",
       "10838  2.2 and up  \n",
       "\n",
       "[1474 rows x 13 columns]"
      ]
     },
     "execution_count": 6,
     "metadata": {},
     "output_type": "execute_result"
    }
   ],
   "source": [
    "df[rating]                          #this will display the null value in Content rating "
   ]
  },
  {
   "cell_type": "code",
   "execution_count": 7,
   "metadata": {},
   "outputs": [],
   "source": [
    "df.dropna(how='any', subset=['Rating'], axis=0, inplace = True)\n",
    "\n",
    "#df.dropna(subset=['Rating'])"
   ]
  },
  {
   "cell_type": "markdown",
   "metadata": {},
   "source": [
    "b. Check the null values for the Android Ver column. "
   ]
  },
  {
   "cell_type": "markdown",
   "metadata": {},
   "source": [
    "i. Are all 3 records having the same problem?"
   ]
  },
  {
   "cell_type": "markdown",
   "metadata": {},
   "source": [
    "ii. Drop the 3rd record i.e. record for “Life Made WIFI …”"
   ]
  },
  {
   "cell_type": "markdown",
   "metadata": {},
   "source": [
    "iii. Replace remaining missing values with the mode"
   ]
  },
  {
   "cell_type": "code",
   "execution_count": 8,
   "metadata": {},
   "outputs": [
    {
     "data": {
      "text/html": [
       "<div>\n",
       "<style scoped>\n",
       "    .dataframe tbody tr th:only-of-type {\n",
       "        vertical-align: middle;\n",
       "    }\n",
       "\n",
       "    .dataframe tbody tr th {\n",
       "        vertical-align: top;\n",
       "    }\n",
       "\n",
       "    .dataframe thead th {\n",
       "        text-align: right;\n",
       "    }\n",
       "</style>\n",
       "<table border=\"1\" class=\"dataframe\">\n",
       "  <thead>\n",
       "    <tr style=\"text-align: right;\">\n",
       "      <th></th>\n",
       "      <th>App</th>\n",
       "      <th>Category</th>\n",
       "      <th>Rating</th>\n",
       "      <th>Reviews</th>\n",
       "      <th>Size</th>\n",
       "      <th>Installs</th>\n",
       "      <th>Type</th>\n",
       "      <th>Price</th>\n",
       "      <th>Content Rating</th>\n",
       "      <th>Genres</th>\n",
       "      <th>Last Updated</th>\n",
       "      <th>Current Ver</th>\n",
       "      <th>Android Ver</th>\n",
       "    </tr>\n",
       "  </thead>\n",
       "  <tbody>\n",
       "    <tr>\n",
       "      <th>4453</th>\n",
       "      <td>[substratum] Vacuum: P</td>\n",
       "      <td>PERSONALIZATION</td>\n",
       "      <td>4.4</td>\n",
       "      <td>230</td>\n",
       "      <td>11000.000000</td>\n",
       "      <td>1,000+</td>\n",
       "      <td>Paid</td>\n",
       "      <td>$1.49</td>\n",
       "      <td>Everyone</td>\n",
       "      <td>Personalization</td>\n",
       "      <td>July 20, 2018</td>\n",
       "      <td>4.4</td>\n",
       "      <td>NaN</td>\n",
       "    </tr>\n",
       "    <tr>\n",
       "      <th>4490</th>\n",
       "      <td>Pi Dark [substratum]</td>\n",
       "      <td>PERSONALIZATION</td>\n",
       "      <td>4.5</td>\n",
       "      <td>189</td>\n",
       "      <td>2100.000000</td>\n",
       "      <td>10,000+</td>\n",
       "      <td>Free</td>\n",
       "      <td>0</td>\n",
       "      <td>Everyone</td>\n",
       "      <td>Personalization</td>\n",
       "      <td>March 27, 2018</td>\n",
       "      <td>1.1</td>\n",
       "      <td>NaN</td>\n",
       "    </tr>\n",
       "    <tr>\n",
       "      <th>10472</th>\n",
       "      <td>Life Made WI-Fi Touchscreen Photo Frame</td>\n",
       "      <td>1.9</td>\n",
       "      <td>19.0</td>\n",
       "      <td>3.0M</td>\n",
       "      <td>21516.529524</td>\n",
       "      <td>Free</td>\n",
       "      <td>0</td>\n",
       "      <td>Everyone</td>\n",
       "      <td>NaN</td>\n",
       "      <td>February 11, 2018</td>\n",
       "      <td>1.0.19</td>\n",
       "      <td>4.0 and up</td>\n",
       "      <td>NaN</td>\n",
       "    </tr>\n",
       "  </tbody>\n",
       "</table>\n",
       "</div>"
      ],
      "text/plain": [
       "                                           App         Category  Rating  \\\n",
       "4453                    [substratum] Vacuum: P  PERSONALIZATION     4.4   \n",
       "4490                      Pi Dark [substratum]  PERSONALIZATION     4.5   \n",
       "10472  Life Made WI-Fi Touchscreen Photo Frame              1.9    19.0   \n",
       "\n",
       "      Reviews          Size Installs  Type     Price Content Rating  \\\n",
       "4453      230  11000.000000   1,000+  Paid     $1.49       Everyone   \n",
       "4490      189   2100.000000  10,000+  Free         0       Everyone   \n",
       "10472    3.0M  21516.529524     Free     0  Everyone            NaN   \n",
       "\n",
       "                  Genres    Last Updated Current Ver Android Ver  \n",
       "4453     Personalization   July 20, 2018         4.4         NaN  \n",
       "4490     Personalization  March 27, 2018         1.1         NaN  \n",
       "10472  February 11, 2018          1.0.19  4.0 and up         NaN  "
      ]
     },
     "execution_count": 8,
     "metadata": {},
     "output_type": "execute_result"
    }
   ],
   "source": [
    "#b1\n",
    "\n",
    "na = pd.isnull(df['Android Ver'])\n",
    "df[na]"
   ]
  },
  {
   "cell_type": "markdown",
   "metadata": {},
   "source": [
    "ANS : Yes all three records have same problem"
   ]
  },
  {
   "cell_type": "code",
   "execution_count": 9,
   "metadata": {},
   "outputs": [],
   "source": [
    "#b2\n",
    "df.drop([10472], inplace = True)"
   ]
  },
  {
   "cell_type": "code",
   "execution_count": 10,
   "metadata": {},
   "outputs": [],
   "source": [
    "## Replace NaN value with Mode of Android Ver with its mode\n",
    "df['Android Ver'].fillna(df['Android Ver'].mode()[0], inplace=True)        "
   ]
  },
  {
   "cell_type": "markdown",
   "metadata": {},
   "source": [
    "c. Current ver – replace with most common value"
   ]
  },
  {
   "cell_type": "code",
   "execution_count": 11,
   "metadata": {},
   "outputs": [],
   "source": [
    "## Replacing all values of Current Ver with Mode\n",
    "\n",
    "df['Current Ver'].fillna(df['Current Ver'].mode()[0], inplace=True)"
   ]
  },
  {
   "cell_type": "code",
   "execution_count": 12,
   "metadata": {},
   "outputs": [
    {
     "data": {
      "text/html": [
       "<div>\n",
       "<style scoped>\n",
       "    .dataframe tbody tr th:only-of-type {\n",
       "        vertical-align: middle;\n",
       "    }\n",
       "\n",
       "    .dataframe tbody tr th {\n",
       "        vertical-align: top;\n",
       "    }\n",
       "\n",
       "    .dataframe thead th {\n",
       "        text-align: right;\n",
       "    }\n",
       "</style>\n",
       "<table border=\"1\" class=\"dataframe\">\n",
       "  <thead>\n",
       "    <tr style=\"text-align: right;\">\n",
       "      <th></th>\n",
       "      <th>App</th>\n",
       "      <th>Category</th>\n",
       "      <th>Rating</th>\n",
       "      <th>Reviews</th>\n",
       "      <th>Size</th>\n",
       "      <th>Installs</th>\n",
       "      <th>Type</th>\n",
       "      <th>Price</th>\n",
       "      <th>Content Rating</th>\n",
       "      <th>Genres</th>\n",
       "      <th>Last Updated</th>\n",
       "      <th>Current Ver</th>\n",
       "      <th>Android Ver</th>\n",
       "    </tr>\n",
       "  </thead>\n",
       "  <tbody>\n",
       "    <tr>\n",
       "      <th>0</th>\n",
       "      <td>Photo Editor &amp; Candy Camera &amp; Grid &amp; ScrapBook</td>\n",
       "      <td>ART_AND_DESIGN</td>\n",
       "      <td>4.1</td>\n",
       "      <td>159</td>\n",
       "      <td>19000.0</td>\n",
       "      <td>10,000+</td>\n",
       "      <td>Free</td>\n",
       "      <td>0</td>\n",
       "      <td>Everyone</td>\n",
       "      <td>Art &amp; Design</td>\n",
       "      <td>January 7, 2018</td>\n",
       "      <td>1.0.0</td>\n",
       "      <td>4.0.3 and up</td>\n",
       "    </tr>\n",
       "    <tr>\n",
       "      <th>1</th>\n",
       "      <td>Coloring book moana</td>\n",
       "      <td>ART_AND_DESIGN</td>\n",
       "      <td>3.9</td>\n",
       "      <td>967</td>\n",
       "      <td>14000.0</td>\n",
       "      <td>500,000+</td>\n",
       "      <td>Free</td>\n",
       "      <td>0</td>\n",
       "      <td>Everyone</td>\n",
       "      <td>Art &amp; Design;Pretend Play</td>\n",
       "      <td>January 15, 2018</td>\n",
       "      <td>2.0.0</td>\n",
       "      <td>4.0.3 and up</td>\n",
       "    </tr>\n",
       "    <tr>\n",
       "      <th>2</th>\n",
       "      <td>U Launcher Lite – FREE Live Cool Themes, Hide ...</td>\n",
       "      <td>ART_AND_DESIGN</td>\n",
       "      <td>4.7</td>\n",
       "      <td>87510</td>\n",
       "      <td>8700.0</td>\n",
       "      <td>5,000,000+</td>\n",
       "      <td>Free</td>\n",
       "      <td>0</td>\n",
       "      <td>Everyone</td>\n",
       "      <td>Art &amp; Design</td>\n",
       "      <td>August 1, 2018</td>\n",
       "      <td>1.2.4</td>\n",
       "      <td>4.0.3 and up</td>\n",
       "    </tr>\n",
       "    <tr>\n",
       "      <th>3</th>\n",
       "      <td>Sketch - Draw &amp; Paint</td>\n",
       "      <td>ART_AND_DESIGN</td>\n",
       "      <td>4.5</td>\n",
       "      <td>215644</td>\n",
       "      <td>25000.0</td>\n",
       "      <td>50,000,000+</td>\n",
       "      <td>Free</td>\n",
       "      <td>0</td>\n",
       "      <td>Teen</td>\n",
       "      <td>Art &amp; Design</td>\n",
       "      <td>June 8, 2018</td>\n",
       "      <td>Varies with device</td>\n",
       "      <td>4.2 and up</td>\n",
       "    </tr>\n",
       "    <tr>\n",
       "      <th>4</th>\n",
       "      <td>Pixel Draw - Number Art Coloring Book</td>\n",
       "      <td>ART_AND_DESIGN</td>\n",
       "      <td>4.3</td>\n",
       "      <td>967</td>\n",
       "      <td>2800.0</td>\n",
       "      <td>100,000+</td>\n",
       "      <td>Free</td>\n",
       "      <td>0</td>\n",
       "      <td>Everyone</td>\n",
       "      <td>Art &amp; Design;Creativity</td>\n",
       "      <td>June 20, 2018</td>\n",
       "      <td>1.1</td>\n",
       "      <td>4.4 and up</td>\n",
       "    </tr>\n",
       "  </tbody>\n",
       "</table>\n",
       "</div>"
      ],
      "text/plain": [
       "                                                 App        Category  Rating  \\\n",
       "0     Photo Editor & Candy Camera & Grid & ScrapBook  ART_AND_DESIGN     4.1   \n",
       "1                                Coloring book moana  ART_AND_DESIGN     3.9   \n",
       "2  U Launcher Lite – FREE Live Cool Themes, Hide ...  ART_AND_DESIGN     4.7   \n",
       "3                              Sketch - Draw & Paint  ART_AND_DESIGN     4.5   \n",
       "4              Pixel Draw - Number Art Coloring Book  ART_AND_DESIGN     4.3   \n",
       "\n",
       "  Reviews     Size     Installs  Type Price Content Rating  \\\n",
       "0     159  19000.0      10,000+  Free     0       Everyone   \n",
       "1     967  14000.0     500,000+  Free     0       Everyone   \n",
       "2   87510   8700.0   5,000,000+  Free     0       Everyone   \n",
       "3  215644  25000.0  50,000,000+  Free     0           Teen   \n",
       "4     967   2800.0     100,000+  Free     0       Everyone   \n",
       "\n",
       "                      Genres      Last Updated         Current Ver  \\\n",
       "0               Art & Design   January 7, 2018               1.0.0   \n",
       "1  Art & Design;Pretend Play  January 15, 2018               2.0.0   \n",
       "2               Art & Design    August 1, 2018               1.2.4   \n",
       "3               Art & Design      June 8, 2018  Varies with device   \n",
       "4    Art & Design;Creativity     June 20, 2018                 1.1   \n",
       "\n",
       "    Android Ver  \n",
       "0  4.0.3 and up  \n",
       "1  4.0.3 and up  \n",
       "2  4.0.3 and up  \n",
       "3    4.2 and up  \n",
       "4    4.4 and up  "
      ]
     },
     "execution_count": 12,
     "metadata": {},
     "output_type": "execute_result"
    }
   ],
   "source": [
    "df.head()"
   ]
  },
  {
   "cell_type": "markdown",
   "metadata": {},
   "source": [
    "2. Data clean up – correcting the data types"
   ]
  },
  {
   "cell_type": "markdown",
   "metadata": {},
   "source": [
    "        a. Which all variables need to be brought to numeric types?"
   ]
  },
  {
   "cell_type": "markdown",
   "metadata": {},
   "source": [
    "ANS. The following variables are in object type and need to be brought to numeric type:-                    Reviews,Installs,Price,Content Rating"
   ]
  },
  {
   "cell_type": "markdown",
   "metadata": {},
   "source": [
    "       b. Price variable – remove $ sign and convert to float"
   ]
  },
  {
   "cell_type": "code",
   "execution_count": 13,
   "metadata": {},
   "outputs": [
    {
     "name": "stdout",
     "output_type": "stream",
     "text": [
      "<class 'pandas.core.frame.DataFrame'>\n",
      "Int64Index: 9366 entries, 0 to 10840\n",
      "Data columns (total 13 columns):\n",
      " #   Column          Non-Null Count  Dtype  \n",
      "---  ------          --------------  -----  \n",
      " 0   App             9366 non-null   object \n",
      " 1   Category        9366 non-null   object \n",
      " 2   Rating          9366 non-null   float64\n",
      " 3   Reviews         9366 non-null   object \n",
      " 4   Size            9366 non-null   float64\n",
      " 5   Installs        9366 non-null   object \n",
      " 6   Type            9366 non-null   object \n",
      " 7   Price           9366 non-null   float64\n",
      " 8   Content Rating  9366 non-null   object \n",
      " 9   Genres          9366 non-null   object \n",
      " 10  Last Updated    9366 non-null   object \n",
      " 11  Current Ver     9366 non-null   object \n",
      " 12  Android Ver     9366 non-null   object \n",
      "dtypes: float64(3), object(10)\n",
      "memory usage: 1.0+ MB\n"
     ]
    }
   ],
   "source": [
    "df['Price'] = df['Price'].str.replace('$','')\n",
    "df['Price'] = pd.to_numeric(df['Price'])\n",
    "df.info()"
   ]
  },
  {
   "cell_type": "markdown",
   "metadata": {},
   "source": [
    "ANS.  As you can see the Price coloumn has been changed to Float."
   ]
  },
  {
   "cell_type": "markdown",
   "metadata": {},
   "source": [
    "       c. Installs – remove ‘,’ and ‘+’ sign, convert to integer"
   ]
  },
  {
   "cell_type": "code",
   "execution_count": 14,
   "metadata": {},
   "outputs": [
    {
     "name": "stdout",
     "output_type": "stream",
     "text": [
      "<class 'pandas.core.frame.DataFrame'>\n",
      "Int64Index: 9366 entries, 0 to 10840\n",
      "Data columns (total 13 columns):\n",
      " #   Column          Non-Null Count  Dtype  \n",
      "---  ------          --------------  -----  \n",
      " 0   App             9366 non-null   object \n",
      " 1   Category        9366 non-null   object \n",
      " 2   Rating          9366 non-null   float64\n",
      " 3   Reviews         9366 non-null   object \n",
      " 4   Size            9366 non-null   float64\n",
      " 5   Installs        9366 non-null   int32  \n",
      " 6   Type            9366 non-null   object \n",
      " 7   Price           9366 non-null   float64\n",
      " 8   Content Rating  9366 non-null   object \n",
      " 9   Genres          9366 non-null   object \n",
      " 10  Last Updated    9366 non-null   object \n",
      " 11  Current Ver     9366 non-null   object \n",
      " 12  Android Ver     9366 non-null   object \n",
      "dtypes: float64(3), int32(1), object(9)\n",
      "memory usage: 987.8+ KB\n"
     ]
    }
   ],
   "source": [
    "## To remove ','\n",
    "df['Installs'] = df['Installs'].str.replace(',','')\n",
    "\n",
    "## To remove '+'\n",
    "df['Installs'] = df['Installs'].str.replace('+','')\n",
    "\n",
    "## To convert \"Installs\" from object to Int\n",
    "df['Installs'] = df['Installs'].astype(int)\n",
    "\n",
    "df.info()"
   ]
  },
  {
   "cell_type": "markdown",
   "metadata": {},
   "source": [
    "ANS. As you can see the 'Installs' coloumns has been converted to Integer type"
   ]
  },
  {
   "cell_type": "markdown",
   "metadata": {},
   "source": [
    "       d. Convert all other identified columns to numeric"
   ]
  },
  {
   "cell_type": "code",
   "execution_count": 15,
   "metadata": {},
   "outputs": [],
   "source": [
    "## Converting Reviews Coloumn to numeric type\n",
    "df['Reviews'] = pd.to_numeric(df['Reviews'])\n",
    "\n",
    "\n"
   ]
  },
  {
   "cell_type": "markdown",
   "metadata": {},
   "source": [
    "3. Sanity checks – check for the following and handle accordingly"
   ]
  },
  {
   "cell_type": "markdown",
   "metadata": {},
   "source": [
    "        a. Avg. rating should be between 1 and 5, as only these values are allowed on the play store."
   ]
  },
  {
   "cell_type": "markdown",
   "metadata": {},
   "source": [
    "        i. Are there any such records? Drop if so"
   ]
  },
  {
   "cell_type": "code",
   "execution_count": 16,
   "metadata": {},
   "outputs": [
    {
     "name": "stdout",
     "output_type": "stream",
     "text": [
      "Empty DataFrame\n",
      "Columns: [App, Category, Rating, Reviews, Size, Installs, Type, Price, Content Rating, Genres, Last Updated, Current Ver, Android Ver]\n",
      "Index: []\n"
     ]
    }
   ],
   "source": [
    "test1 = df[(df['Rating'] < 1)]\n",
    "print(test1)"
   ]
  },
  {
   "cell_type": "code",
   "execution_count": 17,
   "metadata": {},
   "outputs": [
    {
     "name": "stdout",
     "output_type": "stream",
     "text": [
      "Empty DataFrame\n",
      "Columns: [App, Category, Rating, Reviews, Size, Installs, Type, Price, Content Rating, Genres, Last Updated, Current Ver, Android Ver]\n",
      "Index: []\n"
     ]
    }
   ],
   "source": [
    "test2 = df[(df['Rating'] > 5)]\n",
    "print(test2)\n",
    "    "
   ]
  },
  {
   "cell_type": "markdown",
   "metadata": {},
   "source": [
    "ANS. As you can see the above return empty lists, so we can say there is no value greater than 5 and less than 1 in Ratings coloumn."
   ]
  },
  {
   "cell_type": "code",
   "execution_count": 18,
   "metadata": {},
   "outputs": [
    {
     "data": {
      "image/png": "[encoded data removed]",
      "text/plain": [
       "<Figure size 432x288 with 1 Axes>"
      ]
     },
     "metadata": {
      "needs_background": "light"
     },
     "output_type": "display_data"
    }
   ],
   "source": [
    "boxplot = df.boxplot(column=['Rating'])"
   ]
  },
  {
   "cell_type": "markdown",
   "metadata": {},
   "source": [
    "b. Reviews should not be more than installs as only those who installed can review the \n",
    "app.\n",
    "i. Are there any such records? Drop if so."
   ]
  },
  {
   "cell_type": "code",
   "execution_count": 19,
   "metadata": {},
   "outputs": [],
   "source": [
    "fake = df[df['Reviews']>df['Installs']].index\n",
    "df.drop(labels=fake, inplace=True)               "
   ]
  },
  {
   "cell_type": "code",
   "execution_count": 20,
   "metadata": {},
   "outputs": [
    {
     "data": {
      "text/html": [
       "<div>\n",
       "<style scoped>\n",
       "    .dataframe tbody tr th:only-of-type {\n",
       "        vertical-align: middle;\n",
       "    }\n",
       "\n",
       "    .dataframe tbody tr th {\n",
       "        vertical-align: top;\n",
       "    }\n",
       "\n",
       "    .dataframe thead th {\n",
       "        text-align: right;\n",
       "    }\n",
       "</style>\n",
       "<table border=\"1\" class=\"dataframe\">\n",
       "  <thead>\n",
       "    <tr style=\"text-align: right;\">\n",
       "      <th></th>\n",
       "      <th>App</th>\n",
       "      <th>Category</th>\n",
       "      <th>Rating</th>\n",
       "      <th>Reviews</th>\n",
       "      <th>Size</th>\n",
       "      <th>Installs</th>\n",
       "      <th>Type</th>\n",
       "      <th>Price</th>\n",
       "      <th>Content Rating</th>\n",
       "      <th>Genres</th>\n",
       "      <th>Last Updated</th>\n",
       "      <th>Current Ver</th>\n",
       "      <th>Android Ver</th>\n",
       "    </tr>\n",
       "  </thead>\n",
       "  <tbody>\n",
       "  </tbody>\n",
       "</table>\n",
       "</div>"
      ],
      "text/plain": [
       "Empty DataFrame\n",
       "Columns: [App, Category, Rating, Reviews, Size, Installs, Type, Price, Content Rating, Genres, Last Updated, Current Ver, Android Ver]\n",
       "Index: []"
      ]
     },
     "execution_count": 20,
     "metadata": {},
     "output_type": "execute_result"
    }
   ],
   "source": [
    "df.loc[df['Reviews']>df['Installs']]\n",
    "        "
   ]
  },
  {
   "cell_type": "markdown",
   "metadata": {},
   "source": [
    "### 4. Identify and handle outliers – "
   ]
  },
  {
   "cell_type": "markdown",
   "metadata": {},
   "source": [
    "a. Price column"
   ]
  },
  {
   "cell_type": "markdown",
   "metadata": {},
   "source": [
    "            i. Make suitable plot to identify outliers in price"
   ]
  },
  {
   "cell_type": "code",
   "execution_count": 21,
   "metadata": {},
   "outputs": [
    {
     "data": {
      "image/png": "[encoded data removed]",
      "text/plain": [
       "<Figure size 432x288 with 1 Axes>"
      ]
     },
     "metadata": {
      "needs_background": "light"
     },
     "output_type": "display_data"
    }
   ],
   "source": [
    "boxplot = df.boxplot(column=['Price'])"
   ]
  },
  {
   "cell_type": "markdown",
   "metadata": {},
   "source": [
    "ii.Do you expect apps on the play store to cost $200? Check out these cases"
   ]
  },
  {
   "cell_type": "code",
   "execution_count": 22,
   "metadata": {},
   "outputs": [
    {
     "data": {
      "text/html": [
       "<div>\n",
       "<style scoped>\n",
       "    .dataframe tbody tr th:only-of-type {\n",
       "        vertical-align: middle;\n",
       "    }\n",
       "\n",
       "    .dataframe tbody tr th {\n",
       "        vertical-align: top;\n",
       "    }\n",
       "\n",
       "    .dataframe thead th {\n",
       "        text-align: right;\n",
       "    }\n",
       "</style>\n",
       "<table border=\"1\" class=\"dataframe\">\n",
       "  <thead>\n",
       "    <tr style=\"text-align: right;\">\n",
       "      <th></th>\n",
       "      <th>App</th>\n",
       "      <th>Category</th>\n",
       "      <th>Rating</th>\n",
       "      <th>Reviews</th>\n",
       "      <th>Size</th>\n",
       "      <th>Installs</th>\n",
       "      <th>Type</th>\n",
       "      <th>Price</th>\n",
       "      <th>Content Rating</th>\n",
       "      <th>Genres</th>\n",
       "      <th>Last Updated</th>\n",
       "      <th>Current Ver</th>\n",
       "      <th>Android Ver</th>\n",
       "    </tr>\n",
       "  </thead>\n",
       "  <tbody>\n",
       "    <tr>\n",
       "      <th>4197</th>\n",
       "      <td>most expensive app (H)</td>\n",
       "      <td>FAMILY</td>\n",
       "      <td>4.3</td>\n",
       "      <td>6</td>\n",
       "      <td>1500.0</td>\n",
       "      <td>100</td>\n",
       "      <td>Paid</td>\n",
       "      <td>399.99</td>\n",
       "      <td>Everyone</td>\n",
       "      <td>Entertainment</td>\n",
       "      <td>July 16, 2018</td>\n",
       "      <td>1.0</td>\n",
       "      <td>7.0 and up</td>\n",
       "    </tr>\n",
       "    <tr>\n",
       "      <th>4362</th>\n",
       "      <td>💎 I'm rich</td>\n",
       "      <td>LIFESTYLE</td>\n",
       "      <td>3.8</td>\n",
       "      <td>718</td>\n",
       "      <td>26000.0</td>\n",
       "      <td>10000</td>\n",
       "      <td>Paid</td>\n",
       "      <td>399.99</td>\n",
       "      <td>Everyone</td>\n",
       "      <td>Lifestyle</td>\n",
       "      <td>March 11, 2018</td>\n",
       "      <td>1.0.0</td>\n",
       "      <td>4.4 and up</td>\n",
       "    </tr>\n",
       "    <tr>\n",
       "      <th>4367</th>\n",
       "      <td>I'm Rich - Trump Edition</td>\n",
       "      <td>LIFESTYLE</td>\n",
       "      <td>3.6</td>\n",
       "      <td>275</td>\n",
       "      <td>7300.0</td>\n",
       "      <td>10000</td>\n",
       "      <td>Paid</td>\n",
       "      <td>400.00</td>\n",
       "      <td>Everyone</td>\n",
       "      <td>Lifestyle</td>\n",
       "      <td>May 3, 2018</td>\n",
       "      <td>1.0.1</td>\n",
       "      <td>4.1 and up</td>\n",
       "    </tr>\n",
       "    <tr>\n",
       "      <th>5351</th>\n",
       "      <td>I am rich</td>\n",
       "      <td>LIFESTYLE</td>\n",
       "      <td>3.8</td>\n",
       "      <td>3547</td>\n",
       "      <td>1800.0</td>\n",
       "      <td>100000</td>\n",
       "      <td>Paid</td>\n",
       "      <td>399.99</td>\n",
       "      <td>Everyone</td>\n",
       "      <td>Lifestyle</td>\n",
       "      <td>January 12, 2018</td>\n",
       "      <td>2.0</td>\n",
       "      <td>4.0.3 and up</td>\n",
       "    </tr>\n",
       "    <tr>\n",
       "      <th>5354</th>\n",
       "      <td>I am Rich Plus</td>\n",
       "      <td>FAMILY</td>\n",
       "      <td>4.0</td>\n",
       "      <td>856</td>\n",
       "      <td>8700.0</td>\n",
       "      <td>10000</td>\n",
       "      <td>Paid</td>\n",
       "      <td>399.99</td>\n",
       "      <td>Everyone</td>\n",
       "      <td>Entertainment</td>\n",
       "      <td>May 19, 2018</td>\n",
       "      <td>3.0</td>\n",
       "      <td>4.4 and up</td>\n",
       "    </tr>\n",
       "    <tr>\n",
       "      <th>5355</th>\n",
       "      <td>I am rich VIP</td>\n",
       "      <td>LIFESTYLE</td>\n",
       "      <td>3.8</td>\n",
       "      <td>411</td>\n",
       "      <td>2600.0</td>\n",
       "      <td>10000</td>\n",
       "      <td>Paid</td>\n",
       "      <td>299.99</td>\n",
       "      <td>Everyone</td>\n",
       "      <td>Lifestyle</td>\n",
       "      <td>July 21, 2018</td>\n",
       "      <td>1.1.1</td>\n",
       "      <td>4.3 and up</td>\n",
       "    </tr>\n",
       "    <tr>\n",
       "      <th>5356</th>\n",
       "      <td>I Am Rich Premium</td>\n",
       "      <td>FINANCE</td>\n",
       "      <td>4.1</td>\n",
       "      <td>1867</td>\n",
       "      <td>4700.0</td>\n",
       "      <td>50000</td>\n",
       "      <td>Paid</td>\n",
       "      <td>399.99</td>\n",
       "      <td>Everyone</td>\n",
       "      <td>Finance</td>\n",
       "      <td>November 12, 2017</td>\n",
       "      <td>1.6</td>\n",
       "      <td>4.0 and up</td>\n",
       "    </tr>\n",
       "    <tr>\n",
       "      <th>5357</th>\n",
       "      <td>I am extremely Rich</td>\n",
       "      <td>LIFESTYLE</td>\n",
       "      <td>2.9</td>\n",
       "      <td>41</td>\n",
       "      <td>2900.0</td>\n",
       "      <td>1000</td>\n",
       "      <td>Paid</td>\n",
       "      <td>379.99</td>\n",
       "      <td>Everyone</td>\n",
       "      <td>Lifestyle</td>\n",
       "      <td>July 1, 2018</td>\n",
       "      <td>1.0</td>\n",
       "      <td>4.0 and up</td>\n",
       "    </tr>\n",
       "    <tr>\n",
       "      <th>5358</th>\n",
       "      <td>I am Rich!</td>\n",
       "      <td>FINANCE</td>\n",
       "      <td>3.8</td>\n",
       "      <td>93</td>\n",
       "      <td>22000.0</td>\n",
       "      <td>1000</td>\n",
       "      <td>Paid</td>\n",
       "      <td>399.99</td>\n",
       "      <td>Everyone</td>\n",
       "      <td>Finance</td>\n",
       "      <td>December 11, 2017</td>\n",
       "      <td>1.0</td>\n",
       "      <td>4.1 and up</td>\n",
       "    </tr>\n",
       "    <tr>\n",
       "      <th>5359</th>\n",
       "      <td>I am rich(premium)</td>\n",
       "      <td>FINANCE</td>\n",
       "      <td>3.5</td>\n",
       "      <td>472</td>\n",
       "      <td>965.0</td>\n",
       "      <td>5000</td>\n",
       "      <td>Paid</td>\n",
       "      <td>399.99</td>\n",
       "      <td>Everyone</td>\n",
       "      <td>Finance</td>\n",
       "      <td>May 1, 2017</td>\n",
       "      <td>3.4</td>\n",
       "      <td>4.4 and up</td>\n",
       "    </tr>\n",
       "    <tr>\n",
       "      <th>5362</th>\n",
       "      <td>I Am Rich Pro</td>\n",
       "      <td>FAMILY</td>\n",
       "      <td>4.4</td>\n",
       "      <td>201</td>\n",
       "      <td>2700.0</td>\n",
       "      <td>5000</td>\n",
       "      <td>Paid</td>\n",
       "      <td>399.99</td>\n",
       "      <td>Everyone</td>\n",
       "      <td>Entertainment</td>\n",
       "      <td>May 30, 2017</td>\n",
       "      <td>1.54</td>\n",
       "      <td>1.6 and up</td>\n",
       "    </tr>\n",
       "    <tr>\n",
       "      <th>5364</th>\n",
       "      <td>I am rich (Most expensive app)</td>\n",
       "      <td>FINANCE</td>\n",
       "      <td>4.1</td>\n",
       "      <td>129</td>\n",
       "      <td>2700.0</td>\n",
       "      <td>1000</td>\n",
       "      <td>Paid</td>\n",
       "      <td>399.99</td>\n",
       "      <td>Teen</td>\n",
       "      <td>Finance</td>\n",
       "      <td>December 6, 2017</td>\n",
       "      <td>2</td>\n",
       "      <td>4.0.3 and up</td>\n",
       "    </tr>\n",
       "    <tr>\n",
       "      <th>5366</th>\n",
       "      <td>I Am Rich</td>\n",
       "      <td>FAMILY</td>\n",
       "      <td>3.6</td>\n",
       "      <td>217</td>\n",
       "      <td>4900.0</td>\n",
       "      <td>10000</td>\n",
       "      <td>Paid</td>\n",
       "      <td>389.99</td>\n",
       "      <td>Everyone</td>\n",
       "      <td>Entertainment</td>\n",
       "      <td>June 22, 2018</td>\n",
       "      <td>1.5</td>\n",
       "      <td>4.2 and up</td>\n",
       "    </tr>\n",
       "    <tr>\n",
       "      <th>5369</th>\n",
       "      <td>I am Rich</td>\n",
       "      <td>FINANCE</td>\n",
       "      <td>4.3</td>\n",
       "      <td>180</td>\n",
       "      <td>3800.0</td>\n",
       "      <td>5000</td>\n",
       "      <td>Paid</td>\n",
       "      <td>399.99</td>\n",
       "      <td>Everyone</td>\n",
       "      <td>Finance</td>\n",
       "      <td>March 22, 2018</td>\n",
       "      <td>1.0</td>\n",
       "      <td>4.2 and up</td>\n",
       "    </tr>\n",
       "    <tr>\n",
       "      <th>5373</th>\n",
       "      <td>I AM RICH PRO PLUS</td>\n",
       "      <td>FINANCE</td>\n",
       "      <td>4.0</td>\n",
       "      <td>36</td>\n",
       "      <td>41000.0</td>\n",
       "      <td>1000</td>\n",
       "      <td>Paid</td>\n",
       "      <td>399.99</td>\n",
       "      <td>Everyone</td>\n",
       "      <td>Finance</td>\n",
       "      <td>June 25, 2018</td>\n",
       "      <td>1.0.2</td>\n",
       "      <td>4.1 and up</td>\n",
       "    </tr>\n",
       "  </tbody>\n",
       "</table>\n",
       "</div>"
      ],
      "text/plain": [
       "                                 App   Category  Rating  Reviews     Size  \\\n",
       "4197          most expensive app (H)     FAMILY     4.3        6   1500.0   \n",
       "4362                      💎 I'm rich  LIFESTYLE     3.8      718  26000.0   \n",
       "4367        I'm Rich - Trump Edition  LIFESTYLE     3.6      275   7300.0   \n",
       "5351                       I am rich  LIFESTYLE     3.8     3547   1800.0   \n",
       "5354                  I am Rich Plus     FAMILY     4.0      856   8700.0   \n",
       "5355                   I am rich VIP  LIFESTYLE     3.8      411   2600.0   \n",
       "5356               I Am Rich Premium    FINANCE     4.1     1867   4700.0   \n",
       "5357             I am extremely Rich  LIFESTYLE     2.9       41   2900.0   \n",
       "5358                      I am Rich!    FINANCE     3.8       93  22000.0   \n",
       "5359              I am rich(premium)    FINANCE     3.5      472    965.0   \n",
       "5362                   I Am Rich Pro     FAMILY     4.4      201   2700.0   \n",
       "5364  I am rich (Most expensive app)    FINANCE     4.1      129   2700.0   \n",
       "5366                       I Am Rich     FAMILY     3.6      217   4900.0   \n",
       "5369                       I am Rich    FINANCE     4.3      180   3800.0   \n",
       "5373              I AM RICH PRO PLUS    FINANCE     4.0       36  41000.0   \n",
       "\n",
       "      Installs  Type   Price Content Rating         Genres       Last Updated  \\\n",
       "4197       100  Paid  399.99       Everyone  Entertainment      July 16, 2018   \n",
       "4362     10000  Paid  399.99       Everyone      Lifestyle     March 11, 2018   \n",
       "4367     10000  Paid  400.00       Everyone      Lifestyle        May 3, 2018   \n",
       "5351    100000  Paid  399.99       Everyone      Lifestyle   January 12, 2018   \n",
       "5354     10000  Paid  399.99       Everyone  Entertainment       May 19, 2018   \n",
       "5355     10000  Paid  299.99       Everyone      Lifestyle      July 21, 2018   \n",
       "5356     50000  Paid  399.99       Everyone        Finance  November 12, 2017   \n",
       "5357      1000  Paid  379.99       Everyone      Lifestyle       July 1, 2018   \n",
       "5358      1000  Paid  399.99       Everyone        Finance  December 11, 2017   \n",
       "5359      5000  Paid  399.99       Everyone        Finance        May 1, 2017   \n",
       "5362      5000  Paid  399.99       Everyone  Entertainment       May 30, 2017   \n",
       "5364      1000  Paid  399.99           Teen        Finance   December 6, 2017   \n",
       "5366     10000  Paid  389.99       Everyone  Entertainment      June 22, 2018   \n",
       "5369      5000  Paid  399.99       Everyone        Finance     March 22, 2018   \n",
       "5373      1000  Paid  399.99       Everyone        Finance      June 25, 2018   \n",
       "\n",
       "     Current Ver   Android Ver  \n",
       "4197         1.0    7.0 and up  \n",
       "4362       1.0.0    4.4 and up  \n",
       "4367       1.0.1    4.1 and up  \n",
       "5351         2.0  4.0.3 and up  \n",
       "5354         3.0    4.4 and up  \n",
       "5355       1.1.1    4.3 and up  \n",
       "5356         1.6    4.0 and up  \n",
       "5357         1.0    4.0 and up  \n",
       "5358         1.0    4.1 and up  \n",
       "5359         3.4    4.4 and up  \n",
       "5362        1.54    1.6 and up  \n",
       "5364           2  4.0.3 and up  \n",
       "5366         1.5    4.2 and up  \n",
       "5369         1.0    4.2 and up  \n",
       "5373       1.0.2    4.1 and up  "
      ]
     },
     "execution_count": 22,
     "metadata": {},
     "output_type": "execute_result"
    }
   ],
   "source": [
    "df.loc[df['Price'] > 200]"
   ]
  },
  {
   "cell_type": "code",
   "execution_count": 23,
   "metadata": {},
   "outputs": [],
   "source": [
    "##  Limit data to records with price < $30\n",
    "df2 = df[df.Price > 30].index\n",
    "df.drop(labels=df2, inplace=True)"
   ]
  },
  {
   "cell_type": "code",
   "execution_count": 24,
   "metadata": {},
   "outputs": [
    {
     "data": {
      "text/html": [
       "<div>\n",
       "<style scoped>\n",
       "    .dataframe tbody tr th:only-of-type {\n",
       "        vertical-align: middle;\n",
       "    }\n",
       "\n",
       "    .dataframe tbody tr th {\n",
       "        vertical-align: top;\n",
       "    }\n",
       "\n",
       "    .dataframe thead th {\n",
       "        text-align: right;\n",
       "    }\n",
       "</style>\n",
       "<table border=\"1\" class=\"dataframe\">\n",
       "  <thead>\n",
       "    <tr style=\"text-align: right;\">\n",
       "      <th></th>\n",
       "      <th>Rating</th>\n",
       "      <th>Reviews</th>\n",
       "      <th>Size</th>\n",
       "      <th>Installs</th>\n",
       "      <th>Price</th>\n",
       "    </tr>\n",
       "  </thead>\n",
       "  <tbody>\n",
       "    <tr>\n",
       "      <th>count</th>\n",
       "      <td>9338.000000</td>\n",
       "      <td>9.338000e+03</td>\n",
       "      <td>9338.000000</td>\n",
       "      <td>9.338000e+03</td>\n",
       "      <td>9338.000000</td>\n",
       "    </tr>\n",
       "    <tr>\n",
       "      <th>mean</th>\n",
       "      <td>4.191776</td>\n",
       "      <td>5.155891e+05</td>\n",
       "      <td>22725.789334</td>\n",
       "      <td>1.795108e+07</td>\n",
       "      <td>0.301915</td>\n",
       "    </tr>\n",
       "    <tr>\n",
       "      <th>std</th>\n",
       "      <td>0.515031</td>\n",
       "      <td>3.148627e+06</td>\n",
       "      <td>21310.340299</td>\n",
       "      <td>9.136965e+07</td>\n",
       "      <td>1.669887</td>\n",
       "    </tr>\n",
       "    <tr>\n",
       "      <th>min</th>\n",
       "      <td>1.000000</td>\n",
       "      <td>1.000000e+00</td>\n",
       "      <td>8.500000</td>\n",
       "      <td>5.000000e+00</td>\n",
       "      <td>0.000000</td>\n",
       "    </tr>\n",
       "    <tr>\n",
       "      <th>25%</th>\n",
       "      <td>4.000000</td>\n",
       "      <td>1.890000e+02</td>\n",
       "      <td>6600.000000</td>\n",
       "      <td>1.000000e+04</td>\n",
       "      <td>0.000000</td>\n",
       "    </tr>\n",
       "    <tr>\n",
       "      <th>50%</th>\n",
       "      <td>4.300000</td>\n",
       "      <td>6.011500e+03</td>\n",
       "      <td>21000.000000</td>\n",
       "      <td>5.000000e+05</td>\n",
       "      <td>0.000000</td>\n",
       "    </tr>\n",
       "    <tr>\n",
       "      <th>75%</th>\n",
       "      <td>4.500000</td>\n",
       "      <td>8.247100e+04</td>\n",
       "      <td>27000.000000</td>\n",
       "      <td>5.000000e+06</td>\n",
       "      <td>0.000000</td>\n",
       "    </tr>\n",
       "    <tr>\n",
       "      <th>max</th>\n",
       "      <td>5.000000</td>\n",
       "      <td>7.815831e+07</td>\n",
       "      <td>100000.000000</td>\n",
       "      <td>1.000000e+09</td>\n",
       "      <td>29.990000</td>\n",
       "    </tr>\n",
       "  </tbody>\n",
       "</table>\n",
       "</div>"
      ],
      "text/plain": [
       "            Rating       Reviews           Size      Installs        Price\n",
       "count  9338.000000  9.338000e+03    9338.000000  9.338000e+03  9338.000000\n",
       "mean      4.191776  5.155891e+05   22725.789334  1.795108e+07     0.301915\n",
       "std       0.515031  3.148627e+06   21310.340299  9.136965e+07     1.669887\n",
       "min       1.000000  1.000000e+00       8.500000  5.000000e+00     0.000000\n",
       "25%       4.000000  1.890000e+02    6600.000000  1.000000e+04     0.000000\n",
       "50%       4.300000  6.011500e+03   21000.000000  5.000000e+05     0.000000\n",
       "75%       4.500000  8.247100e+04   27000.000000  5.000000e+06     0.000000\n",
       "max       5.000000  7.815831e+07  100000.000000  1.000000e+09    29.990000"
      ]
     },
     "execution_count": 24,
     "metadata": {},
     "output_type": "execute_result"
    }
   ],
   "source": [
    "df.describe() ## this will be our limited dataset for now"
   ]
  },
  {
   "cell_type": "markdown",
   "metadata": {},
   "source": [
    "iii. After dropping the useless records, make the suitable plot again to identify outliers"
   ]
  },
  {
   "cell_type": "code",
   "execution_count": 28,
   "metadata": {},
   "outputs": [
    {
     "data": {
      "image/png": "[encoded data removed]",
      "text/plain": [
       "<Figure size 432x288 with 1 Axes>"
      ]
     },
     "metadata": {
      "needs_background": "light"
     },
     "output_type": "display_data"
    }
   ],
   "source": [
    "plt.boxplot(df['Price'])\n",
    "plt.show()"
   ]
  },
  {
   "cell_type": "markdown",
   "metadata": {},
   "source": [
    "b. Reviews column\n",
    "   i. Make suitable plot\n",
    "   ii. Limit data to apps with < 1 Million review"
   ]
  },
  {
   "cell_type": "code",
   "execution_count": 29,
   "metadata": {},
   "outputs": [
    {
     "data": {
      "image/png": "[encoded data removed]",
      "text/plain": [
       "<Figure size 432x288 with 1 Axes>"
      ]
     },
     "metadata": {
      "needs_background": "light"
     },
     "output_type": "display_data"
    }
   ],
   "source": [
    "# 1 plot\n",
    "rboxplot = df.boxplot(column=['Reviews'])"
   ]
  },
  {
   "cell_type": "code",
   "execution_count": 30,
   "metadata": {},
   "outputs": [
    {
     "name": "stdout",
     "output_type": "stream",
     "text": [
      "704 cols dropped\n"
     ]
    }
   ],
   "source": [
    "mil = df[df['Reviews'] > 1000000 ].index\n",
    "df.drop(labels = mil, inplace=True)\n",
    "print(mil.value_counts().sum(),'cols dropped')"
   ]
  },
  {
   "cell_type": "code",
   "execution_count": 31,
   "metadata": {},
   "outputs": [
    {
     "data": {
      "text/html": [
       "<div>\n",
       "<style scoped>\n",
       "    .dataframe tbody tr th:only-of-type {\n",
       "        vertical-align: middle;\n",
       "    }\n",
       "\n",
       "    .dataframe tbody tr th {\n",
       "        vertical-align: top;\n",
       "    }\n",
       "\n",
       "    .dataframe thead th {\n",
       "        text-align: right;\n",
       "    }\n",
       "</style>\n",
       "<table border=\"1\" class=\"dataframe\">\n",
       "  <thead>\n",
       "    <tr style=\"text-align: right;\">\n",
       "      <th></th>\n",
       "      <th>Rating</th>\n",
       "      <th>Reviews</th>\n",
       "      <th>Size</th>\n",
       "      <th>Installs</th>\n",
       "      <th>Price</th>\n",
       "    </tr>\n",
       "  </thead>\n",
       "  <tbody>\n",
       "    <tr>\n",
       "      <th>count</th>\n",
       "      <td>8634.000000</td>\n",
       "      <td>8634.000000</td>\n",
       "      <td>8634.000000</td>\n",
       "      <td>8.634000e+03</td>\n",
       "      <td>8634.000000</td>\n",
       "    </tr>\n",
       "    <tr>\n",
       "      <th>mean</th>\n",
       "      <td>4.172492</td>\n",
       "      <td>68383.348853</td>\n",
       "      <td>21636.459060</td>\n",
       "      <td>4.288536e+06</td>\n",
       "      <td>0.324913</td>\n",
       "    </tr>\n",
       "    <tr>\n",
       "      <th>std</th>\n",
       "      <td>0.528913</td>\n",
       "      <td>156335.806417</td>\n",
       "      <td>20663.668474</td>\n",
       "      <td>2.864650e+07</td>\n",
       "      <td>1.731362</td>\n",
       "    </tr>\n",
       "    <tr>\n",
       "      <th>min</th>\n",
       "      <td>1.000000</td>\n",
       "      <td>1.000000</td>\n",
       "      <td>8.500000</td>\n",
       "      <td>5.000000e+00</td>\n",
       "      <td>0.000000</td>\n",
       "    </tr>\n",
       "    <tr>\n",
       "      <th>25%</th>\n",
       "      <td>4.000000</td>\n",
       "      <td>143.250000</td>\n",
       "      <td>6000.000000</td>\n",
       "      <td>1.000000e+04</td>\n",
       "      <td>0.000000</td>\n",
       "    </tr>\n",
       "    <tr>\n",
       "      <th>50%</th>\n",
       "      <td>4.300000</td>\n",
       "      <td>3641.000000</td>\n",
       "      <td>18000.000000</td>\n",
       "      <td>1.000000e+05</td>\n",
       "      <td>0.000000</td>\n",
       "    </tr>\n",
       "    <tr>\n",
       "      <th>75%</th>\n",
       "      <td>4.500000</td>\n",
       "      <td>46070.500000</td>\n",
       "      <td>26000.000000</td>\n",
       "      <td>1.000000e+06</td>\n",
       "      <td>0.000000</td>\n",
       "    </tr>\n",
       "    <tr>\n",
       "      <th>max</th>\n",
       "      <td>5.000000</td>\n",
       "      <td>995002.000000</td>\n",
       "      <td>100000.000000</td>\n",
       "      <td>1.000000e+09</td>\n",
       "      <td>29.990000</td>\n",
       "    </tr>\n",
       "  </tbody>\n",
       "</table>\n",
       "</div>"
      ],
      "text/plain": [
       "            Rating        Reviews           Size      Installs        Price\n",
       "count  8634.000000    8634.000000    8634.000000  8.634000e+03  8634.000000\n",
       "mean      4.172492   68383.348853   21636.459060  4.288536e+06     0.324913\n",
       "std       0.528913  156335.806417   20663.668474  2.864650e+07     1.731362\n",
       "min       1.000000       1.000000       8.500000  5.000000e+00     0.000000\n",
       "25%       4.000000     143.250000    6000.000000  1.000000e+04     0.000000\n",
       "50%       4.300000    3641.000000   18000.000000  1.000000e+05     0.000000\n",
       "75%       4.500000   46070.500000   26000.000000  1.000000e+06     0.000000\n",
       "max       5.000000  995002.000000  100000.000000  1.000000e+09    29.990000"
      ]
     },
     "execution_count": 31,
     "metadata": {},
     "output_type": "execute_result"
    }
   ],
   "source": [
    "df.describe() ## new limited data"
   ]
  },
  {
   "cell_type": "code",
   "execution_count": 32,
   "metadata": {},
   "outputs": [
    {
     "name": "stdout",
     "output_type": "stream",
     "text": [
      "10000000.0\n"
     ]
    }
   ],
   "source": [
    "max_threshold = df.Installs.quantile(0.95)\n",
    "print(max_threshold)"
   ]
  },
  {
   "cell_type": "code",
   "execution_count": 33,
   "metadata": {},
   "outputs": [],
   "source": [
    "## drop the records with Installs greater than 95th percentile\n",
    "dr = df[df['Installs'] >= max_threshold].index\n",
    "df.drop(dr , inplace=True) "
   ]
  },
  {
   "cell_type": "code",
   "execution_count": 34,
   "metadata": {},
   "outputs": [
    {
     "data": {
      "text/html": [
       "<div>\n",
       "<style scoped>\n",
       "    .dataframe tbody tr th:only-of-type {\n",
       "        vertical-align: middle;\n",
       "    }\n",
       "\n",
       "    .dataframe tbody tr th {\n",
       "        vertical-align: top;\n",
       "    }\n",
       "\n",
       "    .dataframe thead th {\n",
       "        text-align: right;\n",
       "    }\n",
       "</style>\n",
       "<table border=\"1\" class=\"dataframe\">\n",
       "  <thead>\n",
       "    <tr style=\"text-align: right;\">\n",
       "      <th></th>\n",
       "      <th>Rating</th>\n",
       "      <th>Reviews</th>\n",
       "      <th>Size</th>\n",
       "      <th>Installs</th>\n",
       "      <th>Price</th>\n",
       "    </tr>\n",
       "  </thead>\n",
       "  <tbody>\n",
       "    <tr>\n",
       "      <th>count</th>\n",
       "      <td>7258.000000</td>\n",
       "      <td>7258.000000</td>\n",
       "      <td>7258.000000</td>\n",
       "      <td>7.258000e+03</td>\n",
       "      <td>7258.000000</td>\n",
       "    </tr>\n",
       "    <tr>\n",
       "      <th>mean</th>\n",
       "      <td>4.149959</td>\n",
       "      <td>19233.187655</td>\n",
       "      <td>20392.492106</td>\n",
       "      <td>7.932245e+05</td>\n",
       "      <td>0.386375</td>\n",
       "    </tr>\n",
       "    <tr>\n",
       "      <th>std</th>\n",
       "      <td>0.561834</td>\n",
       "      <td>47763.102974</td>\n",
       "      <td>20309.608936</td>\n",
       "      <td>1.482872e+06</td>\n",
       "      <td>1.882061</td>\n",
       "    </tr>\n",
       "    <tr>\n",
       "      <th>min</th>\n",
       "      <td>1.000000</td>\n",
       "      <td>1.000000</td>\n",
       "      <td>8.500000</td>\n",
       "      <td>5.000000e+00</td>\n",
       "      <td>0.000000</td>\n",
       "    </tr>\n",
       "    <tr>\n",
       "      <th>25%</th>\n",
       "      <td>3.900000</td>\n",
       "      <td>85.000000</td>\n",
       "      <td>5300.000000</td>\n",
       "      <td>1.000000e+04</td>\n",
       "      <td>0.000000</td>\n",
       "    </tr>\n",
       "    <tr>\n",
       "      <th>50%</th>\n",
       "      <td>4.300000</td>\n",
       "      <td>1383.000000</td>\n",
       "      <td>15000.000000</td>\n",
       "      <td>1.000000e+05</td>\n",
       "      <td>0.000000</td>\n",
       "    </tr>\n",
       "    <tr>\n",
       "      <th>75%</th>\n",
       "      <td>4.500000</td>\n",
       "      <td>16394.000000</td>\n",
       "      <td>26000.000000</td>\n",
       "      <td>1.000000e+06</td>\n",
       "      <td>0.000000</td>\n",
       "    </tr>\n",
       "    <tr>\n",
       "      <th>max</th>\n",
       "      <td>5.000000</td>\n",
       "      <td>896118.000000</td>\n",
       "      <td>100000.000000</td>\n",
       "      <td>5.000000e+06</td>\n",
       "      <td>29.990000</td>\n",
       "    </tr>\n",
       "  </tbody>\n",
       "</table>\n",
       "</div>"
      ],
      "text/plain": [
       "            Rating        Reviews           Size      Installs        Price\n",
       "count  7258.000000    7258.000000    7258.000000  7.258000e+03  7258.000000\n",
       "mean      4.149959   19233.187655   20392.492106  7.932245e+05     0.386375\n",
       "std       0.561834   47763.102974   20309.608936  1.482872e+06     1.882061\n",
       "min       1.000000       1.000000       8.500000  5.000000e+00     0.000000\n",
       "25%       3.900000      85.000000    5300.000000  1.000000e+04     0.000000\n",
       "50%       4.300000    1383.000000   15000.000000  1.000000e+05     0.000000\n",
       "75%       4.500000   16394.000000   26000.000000  1.000000e+06     0.000000\n",
       "max       5.000000  896118.000000  100000.000000  5.000000e+06    29.990000"
      ]
     },
     "execution_count": 34,
     "metadata": {},
     "output_type": "execute_result"
    }
   ],
   "source": [
    "df.describe()"
   ]
  },
  {
   "cell_type": "markdown",
   "metadata": {},
   "source": [
    "### Data analysis to answer business questions"
   ]
  },
  {
   "cell_type": "markdown",
   "metadata": {},
   "source": [
    "What is the distribution of ratings like? (use Seaborn) More skewed towards higher/lower \n",
    "values?"
   ]
  },
  {
   "cell_type": "markdown",
   "metadata": {},
   "source": [
    "a. How do you explain this?\n",
    "b. What is the implication of this on your analysis"
   ]
  },
  {
   "cell_type": "code",
   "execution_count": 35,
   "metadata": {},
   "outputs": [
    {
     "data": {
      "text/plain": [
       "<matplotlib.axes._subplots.AxesSubplot at 0x1657fe18e80>"
      ]
     },
     "execution_count": 35,
     "metadata": {},
     "output_type": "execute_result"
    },
    {
     "data": {
      "image/png": "[encoded data removed]",
      "text/plain": [
       "<Figure size 432x288 with 1 Axes>"
      ]
     },
     "metadata": {
      "needs_background": "light"
     },
     "output_type": "display_data"
    }
   ],
   "source": [
    "sns.kdeplot(data=df['Rating'])"
   ]
  },
  {
   "cell_type": "markdown",
   "metadata": {},
   "source": [
    "ANS. As we can see in the above density plot, the Rating data is negatively(left) skewed or more skewed towards Lower values"
   ]
  },
  {
   "cell_type": "markdown",
   "metadata": {},
   "source": [
    "ANS. This means there are more apps that are highly rated or the overall rating of apps is high. This \n",
    "      means we cannot define or rank apps based solely on their ratings."
   ]
  },
  {
   "cell_type": "markdown",
   "metadata": {},
   "source": [
    "6. What are the top Content Rating values?"
   ]
  },
  {
   "cell_type": "markdown",
   "metadata": {},
   "source": [
    "  a. Are there any values with very few records?"
   ]
  },
  {
   "cell_type": "code",
   "execution_count": 36,
   "metadata": {},
   "outputs": [
    {
     "data": {
      "text/plain": [
       "Everyone           5913\n",
       "Teen                746\n",
       "Mature 17+          346\n",
       "Everyone 10+        249\n",
       "Adults only 18+       3\n",
       "Unrated               1\n",
       "Name: Content Rating, dtype: int64"
      ]
     },
     "execution_count": 36,
     "metadata": {},
     "output_type": "execute_result"
    }
   ],
   "source": [
    "## to get the top content rating values\n",
    "\n",
    "df['Content Rating'].value_counts()"
   ]
  },
  {
   "cell_type": "markdown",
   "metadata": {},
   "source": [
    "As we can see the \"Adult only 18+\" and \"Unrated\" Rated apps are very few in number."
   ]
  },
  {
   "cell_type": "markdown",
   "metadata": {},
   "source": [
    "b. if yes, drop those as they won’t help in the analysis"
   ]
  },
  {
   "cell_type": "code",
   "execution_count": 37,
   "metadata": {},
   "outputs": [],
   "source": [
    "## To drop 'Adults only 18+' and 'Unrated' Rated apps\n",
    "\n",
    "u = df[ df['Content Rating'] == 'Adults only 18+'].index\n",
    "df.drop(u , inplace=True)\n",
    "\n",
    "## and 'Unrated' Rated apps\n",
    "\n",
    "r = df[ df['Content Rating'] == 'Unrated'].index\n",
    "df.drop(r , inplace=True)"
   ]
  },
  {
   "cell_type": "code",
   "execution_count": 38,
   "metadata": {},
   "outputs": [
    {
     "data": {
      "text/plain": [
       "Everyone        5913\n",
       "Teen             746\n",
       "Mature 17+       346\n",
       "Everyone 10+     249\n",
       "Name: Content Rating, dtype: int64"
      ]
     },
     "execution_count": 38,
     "metadata": {},
     "output_type": "execute_result"
    }
   ],
   "source": [
    "df['Content Rating'].value_counts()"
   ]
  },
  {
   "cell_type": "markdown",
   "metadata": {},
   "source": [
    "#### 7. Effect of size on rating"
   ]
  },
  {
   "cell_type": "markdown",
   "metadata": {},
   "source": [
    "      a. Make a joinplot to understand the effect of size on rating"
   ]
  },
  {
   "cell_type": "code",
   "execution_count": 39,
   "metadata": {},
   "outputs": [
    {
     "data": {
      "text/plain": [
       "<seaborn.axisgrid.JointGrid at 0x1657fe86c70>"
      ]
     },
     "execution_count": 39,
     "metadata": {},
     "output_type": "execute_result"
    },
    {
     "data": {
      "image/png": "[encoded data removed]",
      "text/plain": [
       "<Figure size 432x432 with 3 Axes>"
      ]
     },
     "metadata": {
      "needs_background": "light"
     },
     "output_type": "display_data"
    }
   ],
   "source": [
    "sns.jointplot(x=df['Size'], y=df['Rating'])"
   ]
  },
  {
   "cell_type": "markdown",
   "metadata": {},
   "source": [
    "b. Do you see any patterns?"
   ]
  },
  {
   "cell_type": "markdown",
   "metadata": {},
   "source": [
    "Observation- There is a negative correlation between size and rating."
   ]
  },
  {
   "cell_type": "markdown",
   "metadata": {},
   "source": [
    "c. How do you explain the pattern?"
   ]
  },
  {
   "cell_type": "markdown",
   "metadata": {},
   "source": [
    "Explaination- Users tend to prefer small app size over rating. But most of the apps fall under 80mb, hence we cannot draw a safe conclusion."
   ]
  },
  {
   "cell_type": "markdown",
   "metadata": {},
   "source": [
    "##### 8. Effect of price on rating"
   ]
  },
  {
   "cell_type": "markdown",
   "metadata": {},
   "source": [
    "a. Make a jointplot (with regression line)"
   ]
  },
  {
   "cell_type": "code",
   "execution_count": 40,
   "metadata": {},
   "outputs": [
    {
     "name": "stderr",
     "output_type": "stream",
     "text": [
      "C:\\Users\\91726\\anaconda3\\lib\\site-packages\\seaborn\\distributions.py:369: UserWarning: Default bandwidth for data is 0; skipping density estimation.\n",
      "  warnings.warn(msg, UserWarning)\n"
     ]
    },
    {
     "data": {
      "text/plain": [
       "<seaborn.axisgrid.JointGrid at 0x1657f932a30>"
      ]
     },
     "execution_count": 40,
     "metadata": {},
     "output_type": "execute_result"
    },
    {
     "data": {
      "image/png": "[encoded data removed]",
      "text/plain": [
       "<Figure size 432x432 with 3 Axes>"
      ]
     },
     "metadata": {
      "needs_background": "light"
     },
     "output_type": "display_data"
    }
   ],
   "source": [
    "sns.jointplot(x=df['Price'], y=df['Rating'], kind=\"reg\")"
   ]
  },
  {
   "cell_type": "markdown",
   "metadata": {},
   "source": [
    "b. What pattern do you see?"
   ]
  },
  {
   "cell_type": "markdown",
   "metadata": {},
   "source": [
    "Observation- We can see there is a positive correlation between Rating and Price."
   ]
  },
  {
   "cell_type": "markdown",
   "metadata": {},
   "source": [
    "c. How do you explain the pattern?"
   ]
  },
  {
   "cell_type": "markdown",
   "metadata": {},
   "source": [
    "80% of the apps fall under the price of 20$. So we cannot take the positive correlation conclusion ."
   ]
  },
  {
   "cell_type": "markdown",
   "metadata": {},
   "source": [
    "d.Replot the data, this time with only records with price > 0"
   ]
  },
  {
   "cell_type": "code",
   "execution_count": 41,
   "metadata": {},
   "outputs": [
    {
     "data": {
      "image/png": "[encoded data removed]",
      "text/plain": [
       "<Figure size 432x432 with 3 Axes>"
      ]
     },
     "metadata": {
      "needs_background": "light"
     },
     "output_type": "display_data"
    }
   ],
   "source": [
    "df1=df.loc[df.Price>0]\n",
    "sns.jointplot(x='Price', y='Rating', data=df1, kind='reg')\n",
    "plt.show()"
   ]
  },
  {
   "cell_type": "markdown",
   "metadata": {},
   "source": [
    "e.Does the pattern change?"
   ]
  },
  {
   "cell_type": "markdown",
   "metadata": {},
   "source": [
    "Observation- Yes there is a slight negative correlation between Rating and app size"
   ]
  },
  {
   "cell_type": "markdown",
   "metadata": {},
   "source": [
    "f. What is your overall inference on the effect of price on the rating"
   ]
  },
  {
   "cell_type": "markdown",
   "metadata": {},
   "source": [
    "Observation- Price slightly affects its correlation with Rating, Plus most of the apps falls under 30$. So it is not the conclusion we can take."
   ]
  },
  {
   "cell_type": "markdown",
   "metadata": {},
   "source": [
    "9. Look at all the numeric interactions together – \n",
    "a. Make a pairplort with the colulmns - 'Reviews', 'Size', 'Rating', 'Price'"
   ]
  },
  {
   "cell_type": "code",
   "execution_count": 43,
   "metadata": {},
   "outputs": [
    {
     "name": "stderr",
     "output_type": "stream",
     "text": [
      "C:\\Users\\91726\\anaconda3\\lib\\site-packages\\seaborn\\distributions.py:283: UserWarning: Data must have variance to compute a kernel density estimate.\n",
      "  warnings.warn(msg, UserWarning)\n"
     ]
    },
    {
     "data": {
      "image/png": "[encoded data removed]",
      "text/plain": [
       "<Figure size 777.125x720 with 20 Axes>"
      ]
     },
     "metadata": {
      "needs_background": "light"
     },
     "output_type": "display_data"
    }
   ],
   "source": [
    "sns.pairplot(df[[\"Size\", \"Reviews\", \"Rating\", \"Price\", \"Type\"]], hue=\"Type\", palette=\"magma\")\n",
    "plt.show()"
   ]
  },
  {
   "cell_type": "markdown",
   "metadata": {},
   "source": [
    "#### 10. Rating vs. content rating"
   ]
  },
  {
   "cell_type": "markdown",
   "metadata": {},
   "source": [
    "a. Make a bar plot displaying the rating for each content rating"
   ]
  },
  {
   "cell_type": "code",
   "execution_count": 44,
   "metadata": {},
   "outputs": [
    {
     "data": {
      "text/plain": [
       "<matplotlib.axes._subplots.AxesSubplot at 0x1652b49d820>"
      ]
     },
     "execution_count": 44,
     "metadata": {},
     "output_type": "execute_result"
    },
    {
     "data": {
      "image/png": "[encoded data removed]",
      "text/plain": [
       "<Figure size 432x288 with 1 Axes>"
      ]
     },
     "metadata": {
      "needs_background": "light"
     },
     "output_type": "display_data"
    }
   ],
   "source": [
    "df.groupby(['Content Rating'])['Rating'].count().plot.bar(color=\"cyan\")"
   ]
  },
  {
   "cell_type": "markdown",
   "metadata": {},
   "source": [
    "b. Which metric would you use? Mean? Median? Some other quantile?"
   ]
  },
  {
   "cell_type": "markdown",
   "metadata": {},
   "source": [
    "ANS. Will Take Median for the plot. As their are outliers."
   ]
  },
  {
   "cell_type": "code",
   "execution_count": 45,
   "metadata": {},
   "outputs": [
    {
     "data": {
      "text/plain": [
       "<matplotlib.axes._subplots.AxesSubplot at 0x1652b74aeb0>"
      ]
     },
     "execution_count": 45,
     "metadata": {},
     "output_type": "execute_result"
    },
    {
     "data": {
      "image/png": "[encoded data removed]",
      "text/plain": [
       "<Figure size 432x288 with 1 Axes>"
      ]
     },
     "metadata": {
      "needs_background": "light"
     },
     "output_type": "display_data"
    }
   ],
   "source": [
    "df.boxplot(['Rating'])"
   ]
  },
  {
   "cell_type": "markdown",
   "metadata": {},
   "source": [
    "c. Choose the right metric and plot"
   ]
  },
  {
   "cell_type": "code",
   "execution_count": 46,
   "metadata": {},
   "outputs": [
    {
     "data": {
      "text/plain": [
       "<matplotlib.axes._subplots.AxesSubplot at 0x1652b79a580>"
      ]
     },
     "execution_count": 46,
     "metadata": {},
     "output_type": "execute_result"
    },
    {
     "data": {
      "image/png": "[encoded data removed]",
      "text/plain": [
       "<Figure size 432x288 with 1 Axes>"
      ]
     },
     "metadata": {
      "needs_background": "light"
     },
     "output_type": "display_data"
    }
   ],
   "source": [
    "sns.boxplot(x=df['Content Rating'],y=df['Rating'])"
   ]
  },
  {
   "cell_type": "markdown",
   "metadata": {},
   "source": [
    "#### 11. Content rating vs. size vs. rating – 3 variables at a time"
   ]
  },
  {
   "cell_type": "markdown",
   "metadata": {},
   "source": [
    "a. Create 5 buckets (20% records in each) based on Size."
   ]
  },
  {
   "cell_type": "code",
   "execution_count": 47,
   "metadata": {},
   "outputs": [
    {
     "data": {
      "text/html": [
       "<div>\n",
       "<style scoped>\n",
       "    .dataframe tbody tr th:only-of-type {\n",
       "        vertical-align: middle;\n",
       "    }\n",
       "\n",
       "    .dataframe tbody tr th {\n",
       "        vertical-align: top;\n",
       "    }\n",
       "\n",
       "    .dataframe thead th {\n",
       "        text-align: right;\n",
       "    }\n",
       "</style>\n",
       "<table border=\"1\" class=\"dataframe\">\n",
       "  <thead>\n",
       "    <tr style=\"text-align: right;\">\n",
       "      <th>Content Rating</th>\n",
       "      <th>Everyone</th>\n",
       "      <th>Everyone 10+</th>\n",
       "      <th>Mature 17+</th>\n",
       "      <th>Teen</th>\n",
       "    </tr>\n",
       "    <tr>\n",
       "      <th>Bucket Size</th>\n",
       "      <th></th>\n",
       "      <th></th>\n",
       "      <th></th>\n",
       "      <th></th>\n",
       "    </tr>\n",
       "  </thead>\n",
       "  <tbody>\n",
       "    <tr>\n",
       "      <th>0-20k</th>\n",
       "      <td>4.136404</td>\n",
       "      <td>4.214865</td>\n",
       "      <td>3.990058</td>\n",
       "      <td>4.175758</td>\n",
       "    </tr>\n",
       "    <tr>\n",
       "      <th>20k-40k</th>\n",
       "      <td>4.163083</td>\n",
       "      <td>4.140952</td>\n",
       "      <td>4.144348</td>\n",
       "      <td>4.159292</td>\n",
       "    </tr>\n",
       "    <tr>\n",
       "      <th>40k-60k</th>\n",
       "      <td>4.144717</td>\n",
       "      <td>4.232432</td>\n",
       "      <td>4.177143</td>\n",
       "      <td>4.232184</td>\n",
       "    </tr>\n",
       "    <tr>\n",
       "      <th>60k-80k</th>\n",
       "      <td>4.206081</td>\n",
       "      <td>4.289474</td>\n",
       "      <td>4.228571</td>\n",
       "      <td>4.244231</td>\n",
       "    </tr>\n",
       "    <tr>\n",
       "      <th>80k-100k</th>\n",
       "      <td>4.213821</td>\n",
       "      <td>4.221429</td>\n",
       "      <td>4.290909</td>\n",
       "      <td>4.243137</td>\n",
       "    </tr>\n",
       "  </tbody>\n",
       "</table>\n",
       "</div>"
      ],
      "text/plain": [
       "Content Rating  Everyone  Everyone 10+  Mature 17+      Teen\n",
       "Bucket Size                                                 \n",
       "0-20k           4.136404      4.214865    3.990058  4.175758\n",
       "20k-40k         4.163083      4.140952    4.144348  4.159292\n",
       "40k-60k         4.144717      4.232432    4.177143  4.232184\n",
       "60k-80k         4.206081      4.289474    4.228571  4.244231\n",
       "80k-100k        4.213821      4.221429    4.290909  4.243137"
      ]
     },
     "execution_count": 47,
     "metadata": {},
     "output_type": "execute_result"
    }
   ],
   "source": [
    "bucket=[0, 20000, 40000, 60000, 80000, 100000]\n",
    "df['Bucket Size'] = pd.cut(df['Size'], bucket, labels=['0-20k','20k-40k','40k-60k','60k-80k','80k-100k'])\n",
    "pd.pivot_table(df, values='Rating', index='Bucket Size', columns='Content Rating')"
   ]
  },
  {
   "cell_type": "markdown",
   "metadata": {},
   "source": [
    "b. By Content Rating vs. Size buckets, get the rating (20th percentile) for each \n",
    "combination"
   ]
  },
  {
   "cell_type": "code",
   "execution_count": 48,
   "metadata": {},
   "outputs": [
    {
     "data": {
      "text/html": [
       "<div>\n",
       "<style scoped>\n",
       "    .dataframe tbody tr th:only-of-type {\n",
       "        vertical-align: middle;\n",
       "    }\n",
       "\n",
       "    .dataframe tbody tr th {\n",
       "        vertical-align: top;\n",
       "    }\n",
       "\n",
       "    .dataframe thead th {\n",
       "        text-align: right;\n",
       "    }\n",
       "</style>\n",
       "<table border=\"1\" class=\"dataframe\">\n",
       "  <thead>\n",
       "    <tr style=\"text-align: right;\">\n",
       "      <th>Content Rating</th>\n",
       "      <th>Everyone</th>\n",
       "      <th>Everyone 10+</th>\n",
       "      <th>Mature 17+</th>\n",
       "      <th>Teen</th>\n",
       "    </tr>\n",
       "    <tr>\n",
       "      <th>Bucket Size</th>\n",
       "      <th></th>\n",
       "      <th></th>\n",
       "      <th></th>\n",
       "      <th></th>\n",
       "    </tr>\n",
       "  </thead>\n",
       "  <tbody>\n",
       "    <tr>\n",
       "      <th>0-20k</th>\n",
       "      <td>3.8</td>\n",
       "      <td>4.00</td>\n",
       "      <td>3.50</td>\n",
       "      <td>3.8</td>\n",
       "    </tr>\n",
       "    <tr>\n",
       "      <th>20k-40k</th>\n",
       "      <td>3.8</td>\n",
       "      <td>3.90</td>\n",
       "      <td>3.90</td>\n",
       "      <td>3.9</td>\n",
       "    </tr>\n",
       "    <tr>\n",
       "      <th>40k-60k</th>\n",
       "      <td>3.8</td>\n",
       "      <td>4.00</td>\n",
       "      <td>4.10</td>\n",
       "      <td>4.0</td>\n",
       "    </tr>\n",
       "    <tr>\n",
       "      <th>60k-80k</th>\n",
       "      <td>3.9</td>\n",
       "      <td>4.16</td>\n",
       "      <td>3.96</td>\n",
       "      <td>3.9</td>\n",
       "    </tr>\n",
       "    <tr>\n",
       "      <th>80k-100k</th>\n",
       "      <td>3.9</td>\n",
       "      <td>3.92</td>\n",
       "      <td>4.00</td>\n",
       "      <td>4.0</td>\n",
       "    </tr>\n",
       "  </tbody>\n",
       "</table>\n",
       "</div>"
      ],
      "text/plain": [
       "Content Rating  Everyone  Everyone 10+  Mature 17+  Teen\n",
       "Bucket Size                                             \n",
       "0-20k                3.8          4.00        3.50   3.8\n",
       "20k-40k              3.8          3.90        3.90   3.9\n",
       "40k-60k              3.8          4.00        4.10   4.0\n",
       "60k-80k              3.9          4.16        3.96   3.9\n",
       "80k-100k             3.9          3.92        4.00   4.0"
      ]
     },
     "execution_count": 48,
     "metadata": {},
     "output_type": "execute_result"
    }
   ],
   "source": [
    "combo=pd.pivot_table(df, values='Rating', index='Bucket Size', columns='Content Rating', aggfunc=lambda x:np.quantile(x,0.2))\n",
    "combo"
   ]
  },
  {
   "cell_type": "markdown",
   "metadata": {},
   "source": [
    "c. Make a heatmap of this\n",
    "i. Annotated\n",
    "ii. Greens color map"
   ]
  },
  {
   "cell_type": "code",
   "execution_count": 49,
   "metadata": {},
   "outputs": [
    {
     "data": {
      "image/png": "[encoded data removed]",
      "text/plain": [
       "<Figure size 360x360 with 2 Axes>"
      ]
     },
     "metadata": {
      "needs_background": "light"
     },
     "output_type": "display_data"
    }
   ],
   "source": [
    "# annoted\n",
    "f,ax = plt.subplots(figsize=(5, 5))\n",
    "sns.heatmap(combo, annot=True, linewidths=.5, fmt='.1f',ax=ax)\n",
    "plt.show()"
   ]
  },
  {
   "cell_type": "code",
   "execution_count": 50,
   "metadata": {},
   "outputs": [
    {
     "data": {
      "image/png": "[encoded data removed]",
      "text/plain": [
       "<Figure size 360x360 with 2 Axes>"
      ]
     },
     "metadata": {
      "needs_background": "light"
     },
     "output_type": "display_data"
    }
   ],
   "source": [
    "# green color\n",
    "f,ax = plt.subplots(figsize=(5, 5))\n",
    "sns.heatmap(combo, annot=True, linewidths=.5, cmap='Greens', fmt='.1f',ax=ax)\n",
    "plt.show()"
   ]
  },
  {
   "cell_type": "markdown",
   "metadata": {},
   "source": [
    "d. What’s your inference? Are lighter apps preferred in all categories? Heavier? Some?"
   ]
  },
  {
   "cell_type": "markdown",
   "metadata": {},
   "source": [
    "ANS. We cannot say in particular that ligther apps are preferred because apps of size 60-80k and 80-100k have recieved more ratings. Heavier apps are surely preferred over lighter apps."
   ]
  }
 ],
 "metadata": {
  "kernelspec": {
   "display_name": "Python 3",
   "language": "python",
   "name": "python3"
  },
  "language_info": {
   "codemirror_mode": {
    "name": "ipython",
    "version": 3
   },
   "file_extension": ".py",
   "mimetype": "text/x-python",
   "name": "python",
   "nbconvert_exporter": "python",
   "pygments_lexer": "ipython3",
   "version": "3.8.3"
  }
 },
 "nbformat": 4,
 "nbformat_minor": 4
}
